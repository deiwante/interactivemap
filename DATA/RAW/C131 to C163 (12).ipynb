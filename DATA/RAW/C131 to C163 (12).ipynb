{
 "cells": [
  {
   "cell_type": "code",
   "execution_count": 1,
   "id": "e784cdab",
   "metadata": {},
   "outputs": [],
   "source": [
    "import pandas as pd"
   ]
  },
  {
   "cell_type": "code",
   "execution_count": 3,
   "id": "01813fb7",
   "metadata": {},
   "outputs": [],
   "source": [
    "c131 = pd.read_csv(\"Misdrijven_en_aangiften_per_gemeente_11042024_121134.csv\", delimiter=\";\")\n",
    "c141 = pd.read_csv(\"Misdrijven_en_aangiften_per_gemeente_11042024_121340.csv\", delimiter=\";\")\n",
    "c142 = pd.read_csv(\"Misdrijven_en_aangiften_per_gemeente_11042024_121357.csv\", delimiter=\";\")\n",
    "c143 = pd.read_csv(\"Misdrijven_en_aangiften_per_gemeente_11042024_121419.csv\", delimiter=\";\")\n",
    "c144 = pd.read_csv(\"Misdrijven_en_aangiften_per_gemeente_11042024_121435.csv\", delimiter=\";\")\n",
    "c145 = pd.read_csv(\"Misdrijven_en_aangiften_per_gemeente_11042024_121454.csv\", delimiter=\";\")\n",
    "c146 = pd.read_csv(\"Misdrijven_en_aangiften_per_gemeente_11042024_121514.csv\", delimiter=\";\")\n",
    "c147 = pd.read_csv(\"Misdrijven_en_aangiften_per_gemeente_11042024_121532.csv\", delimiter=\";\")\n",
    "c152 = pd.read_csv(\"Misdrijven_en_aangiften_per_gemeente_11042024_121550.csv\", delimiter=\";\")\n",
    "c161 = pd.read_csv(\"Misdrijven_en_aangiften_per_gemeente_11042024_121608.csv\", delimiter=\";\")\n",
    "c162 = pd.read_csv(\"Misdrijven_en_aangiften_per_gemeente_11042024_121630.csv\", delimiter=\";\")\n",
    "c163 = pd.read_csv(\"Misdrijven_en_aangiften_per_gemeente_11042024_121649.csv\", delimiter=\";\")\n"
   ]
  },
  {
   "cell_type": "code",
   "execution_count": 5,
   "id": "15674aa3",
   "metadata": {},
   "outputs": [],
   "source": [
    "c2 = pd.concat([c131, c141, c142, c143, c144, c145, c146, c147, c152, c161, c162, c163], ignore_index=True)\n",
    "c2.to_csv('CLEANED_C2.csv')"
   ]
  },
  {
   "cell_type": "code",
   "execution_count": null,
   "id": "273247f6",
   "metadata": {},
   "outputs": [],
   "source": []
  }
 ],
 "metadata": {
  "kernelspec": {
   "display_name": "Python 3 (ipykernel)",
   "language": "python",
   "name": "python3"
  },
  "language_info": {
   "codemirror_mode": {
    "name": "ipython",
    "version": 3
   },
   "file_extension": ".py",
   "mimetype": "text/x-python",
   "name": "python",
   "nbconvert_exporter": "python",
   "pygments_lexer": "ipython3",
   "version": "3.11.5"
  }
 },
 "nbformat": 4,
 "nbformat_minor": 5
}
