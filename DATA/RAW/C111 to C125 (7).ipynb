{
 "cells": [
  {
   "cell_type": "code",
   "execution_count": 1,
   "id": "43652bdd",
   "metadata": {},
   "outputs": [],
   "source": [
    "import pandas as pd"
   ]
  },
  {
   "cell_type": "code",
   "execution_count": 2,
   "id": "e8ad0651",
   "metadata": {},
   "outputs": [],
   "source": [
    "c111 = pd.read_csv(\"Misdrijven_en_aangiften_per_gemeente_11042024_114612.csv\", delimiter=\";\")\n",
    "c112 = pd.read_csv(\"Misdrijven_en_aangiften_per_gemeente_11042024_115412.csv\", delimiter=\";\")\n",
    "c121 = pd.read_csv(\"Misdrijven_en_aangiften_per_gemeente_11042024_115613.csv\", delimiter=\";\")\n",
    "c122 = pd.read_csv(\"Misdrijven_en_aangiften_per_gemeente_11042024_115729.csv\", delimiter=\";\")\n",
    "c123 = pd.read_csv(\"Misdrijven_en_aangiften_per_gemeente_11042024_115747.csv\", delimiter=\";\")\n",
    "c124 = pd.read_csv(\"Misdrijven_en_aangiften_per_gemeente_11042024_115804.csv\", delimiter=\";\")\n",
    "c125 = pd.read_csv(\"Misdrijven_en_aangiften_per_gemeente_11042024_115826.csv\", delimiter=\";\")\n"
   ]
  },
  {
   "cell_type": "code",
   "execution_count": 3,
   "id": "6aa9aa8d",
   "metadata": {},
   "outputs": [],
   "source": [
    "c1 = pd.concat([c111,c112,c121,c122,c123,c124,c125], ignore_index=True)\n",
    "c1.to_csv('CLEANED_C1.csv')"
   ]
  },
  {
   "cell_type": "code",
   "execution_count": null,
   "id": "966019da",
   "metadata": {},
   "outputs": [],
   "source": []
  }
 ],
 "metadata": {
  "kernelspec": {
   "display_name": "Python 3 (ipykernel)",
   "language": "python",
   "name": "python3"
  },
  "language_info": {
   "codemirror_mode": {
    "name": "ipython",
    "version": 3
   },
   "file_extension": ".py",
   "mimetype": "text/x-python",
   "name": "python",
   "nbconvert_exporter": "python",
   "pygments_lexer": "ipython3",
   "version": "3.11.5"
  }
 },
 "nbformat": 4,
 "nbformat_minor": 5
}
