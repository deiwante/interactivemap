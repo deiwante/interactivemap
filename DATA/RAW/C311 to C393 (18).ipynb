{
 "cells": [
  {
   "cell_type": "code",
   "execution_count": 1,
   "id": "e0a78d3a",
   "metadata": {},
   "outputs": [],
   "source": [
    "import pandas as pd"
   ]
  },
  {
   "cell_type": "code",
   "execution_count": 2,
   "id": "80b76285",
   "metadata": {},
   "outputs": [],
   "source": [
    "c311 = pd.read_csv(\"Misdrijven_en_aangiften_per_gemeente_11042024_173754.csv\", delimiter=\";\")\n",
    "c312 = pd.read_csv(\"Misdrijven_en_aangiften_per_gemeente_11042024_173812.csv\", delimiter=\";\")\n",
    "c313 = pd.read_csv(\"Misdrijven_en_aangiften_per_gemeente_11042024_173832.csv\", delimiter=\";\")\n",
    "c321 = pd.read_csv(\"Misdrijven_en_aangiften_per_gemeente_11042024_173848.csv\", delimiter=\";\")\n",
    "c322 = pd.read_csv(\"Misdrijven_en_aangiften_per_gemeente_11042024_173903.csv\", delimiter=\";\")\n",
    "c332 = pd.read_csv(\"Misdrijven_en_aangiften_per_gemeente_11042024_173915.csv\", delimiter=\";\")\n",
    "c335 = pd.read_csv(\"Misdrijven_en_aangiften_per_gemeente_11042024_173939.csv\", delimiter=\";\")\n",
    "c342 = pd.read_csv(\"Misdrijven_en_aangiften_per_gemeente_11042024_174003.csv\", delimiter=\";\")\n",
    "c352 = pd.read_csv(\"Misdrijven_en_aangiften_per_gemeente_11042024_174030.csv\", delimiter=\";\")\n",
    "c355 = pd.read_csv(\"Misdrijven_en_aangiften_per_gemeente_11042024_174049.csv\", delimiter=\";\")\n",
    "c364 = pd.read_csv(\"Misdrijven_en_aangiften_per_gemeente_11042024_174109.csv\", delimiter=\";\")\n",
    "c371 = pd.read_csv(\"Misdrijven_en_aangiften_per_gemeente_11042024_174231.csv\", delimiter=\";\")\n",
    "c372 = pd.read_csv(\"Misdrijven_en_aangiften_per_gemeente_11042024_174301.csv\", delimiter=\";\")\n",
    "c373 = pd.read_csv(\"Misdrijven_en_aangiften_per_gemeente_11042024_174327.csv\", delimiter=\";\")\n",
    "c374 = pd.read_csv(\"Misdrijven_en_aangiften_per_gemeente_11042024_174341.csv\", delimiter=\";\")\n",
    "c391 = pd.read_csv(\"Misdrijven_en_aangiften_per_gemeente_11042024_174359.csv\", delimiter=\";\")\n",
    "c392 = pd.read_csv(\"Misdrijven_en_aangiften_per_gemeente_11042024_174416.csv\", delimiter=\";\")\n",
    "c393 = pd.read_csv(\"Misdrijven_en_aangiften_per_gemeente_11042024_174437.csv\", delimiter=\";\")"
   ]
  },
  {
   "cell_type": "code",
   "execution_count": 3,
   "id": "923f0f23",
   "metadata": {},
   "outputs": [],
   "source": [
    "c4 = pd.concat([c311, c312, c313, c321, c322, c332, c335, c342, c352, c355, c364, c371, c372, c373, c374, c391, c392, c393], ignore_index=True)\n",
    "c4.to_csv('CLEANED_C4.csv')"
   ]
  },
  {
   "cell_type": "code",
   "execution_count": null,
   "id": "7f49bf56",
   "metadata": {},
   "outputs": [],
   "source": []
  }
 ],
 "metadata": {
  "kernelspec": {
   "display_name": "Python 3 (ipykernel)",
   "language": "python",
   "name": "python3"
  },
  "language_info": {
   "codemirror_mode": {
    "name": "ipython",
    "version": 3
   },
   "file_extension": ".py",
   "mimetype": "text/x-python",
   "name": "python",
   "nbconvert_exporter": "python",
   "pygments_lexer": "ipython3",
   "version": "3.11.5"
  }
 },
 "nbformat": 4,
 "nbformat_minor": 5
}
