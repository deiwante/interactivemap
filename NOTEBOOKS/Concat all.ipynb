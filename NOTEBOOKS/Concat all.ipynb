{
 "cells": [
  {
   "cell_type": "markdown",
   "id": "cb08f51b",
   "metadata": {},
   "source": [
    "# Data Preparation"
   ]
  },
  {
   "cell_type": "code",
   "execution_count": 1,
   "id": "659d6c7b",
   "metadata": {},
   "outputs": [],
   "source": [
    "import pandas as pd"
   ]
  },
  {
   "cell_type": "code",
   "execution_count": 2,
   "id": "196d5dcb",
   "metadata": {},
   "outputs": [],
   "source": [
    "#All 58 crimes were merged in to a smaller df for easier concat\n",
    "c1 = pd.read_csv(\"CLEANED_C1.csv\", sep=\",\")\n",
    "c2 = pd.read_csv(\"CLEANED_C2.csv\", sep=\",\")\n",
    "c3 = pd.read_csv(\"CLEANED_C3.csv\", sep=\",\")\n",
    "c4 = pd.read_csv(\"CLEANED_C4.csv\", sep=\",\")"
   ]
  },
  {
   "cell_type": "code",
   "execution_count": 4,
   "id": "7ded5fd1",
   "metadata": {},
   "outputs": [],
   "source": [
    "df = pd.concat([c1,c2,c3,c4], ignore_index=True)"
   ]
  },
  {
   "cell_type": "markdown",
   "id": "186607f7",
   "metadata": {},
   "source": [
    "# Translating data from Dutch to English"
   ]
  },
  {
   "cell_type": "code",
   "execution_count": 6,
   "id": "38554aeb",
   "metadata": {},
   "outputs": [],
   "source": [
    "#Translating column names to English\n",
    "df.rename(columns={\n",
    "    'Soort misdrijf': 'Crime_Type',  \n",
    "    'Perioden': 'Year',\n",
    "    \"Regio's\": 'Region',  # This line can actually be omitted since the name doesn't change\n",
    "    'Geregistreerde misdrijven (aantal)': 'Registered_Crimes(number)',\n",
    "    'Aangiften (aantal)': 'Declarations (number)'\n",
    "}, inplace=True)"
   ]
  },
  {
   "cell_type": "code",
   "execution_count": 7,
   "id": "3b2b22b4",
   "metadata": {},
   "outputs": [],
   "source": [
    "#Translating Crime_Types\n",
    "df[\"Crime_Type\"] = df[\"Crime_Type\"].replace({'Totaal misdrijven': \"Total Crimes\"})\n",
    "\n",
    "df[\"Crime_Type\"] = df[\"Crime_Type\"].replace({'1.1.1 Diefstal/inbraak woning': \"Theft/burglary home\"})\n",
    "df[\"Crime_Type\"] = df[\"Crime_Type\"].replace({'1.1.2 Diefstal/inbraak box/garage/schuur': \"Theft garage box/garage/shed\"})\n",
    "\n",
    "df[\"Crime_Type\"] = df[\"Crime_Type\"].replace({'1.2.1 Diefstal uit/vanaf motorvoertuigen': \"Theft of/from motor vehicles\"})\n",
    "df[\"Crime_Type\"] = df[\"Crime_Type\"].replace({'1.2.2 Diefstal van motorvoertuigen': \"Theft of Motor Vehicles\"})\n",
    "df[\"Crime_Type\"] = df[\"Crime_Type\"].replace({'1.2.3 Diefstal van brom-, snor-, fietsen': \"Theft of mopeds, scooters\"})\n",
    "df[\"Crime_Type\"] = df[\"Crime_Type\"].replace({'1.2.4 Zakkenrollerij': \"Pickpocketing\"})\n",
    "df[\"Crime_Type\"] = df[\"Crime_Type\"].replace({'1.2.5 Diefstal af/uit/van ov. voertuigen': \"Theft from/of public transport. vehicles\"})\n",
    "\n",
    "df[\"Crime_Type\"] = df[\"Crime_Type\"].replace({'1.3.1 Ongevallen (weg)': \"Road Accident\"})\n",
    "\n",
    "df[\"Crime_Type\"] = df[\"Crime_Type\"].replace({'1.4.1 Zedenmisdrijf': \"Sexual offence\"})\n",
    "df[\"Crime_Type\"] = df[\"Crime_Type\"].replace({'1.4.2 Moord, doodslag': \"Murder, manslaughter\"})\n",
    "df[\"Crime_Type\"] = df[\"Crime_Type\"].replace({'1.4.3 Openlijk geweld (persoon)': \"Public violence (person)\"})\n",
    "df[\"Crime_Type\"] = df[\"Crime_Type\"].replace({'1.4.4 Bedreiging': \"Threat\"})\n",
    "df[\"Crime_Type\"] = df[\"Crime_Type\"].replace({'1.4.5 Mishandeling': \"Abuse\"})\n",
    "df[\"Crime_Type\"] = df[\"Crime_Type\"].replace({'1.4.6 Straatroof': \"Street robbery\"})\n",
    "df[\"Crime_Type\"] = df[\"Crime_Type\"].replace({'1.4.7 Overval': \"Robbery\"})\n",
    "\n",
    "df[\"Crime_Type\"] = df[\"Crime_Type\"].replace({'1.5.2 Diefstallen (water)': \"Thefts (water)\"}) #?\n",
    "\n",
    "df[\"Crime_Type\"] = df[\"Crime_Type\"].replace({'1.6.1 Brand/ontploffing': \"Fire/explosion\"})\n",
    "df[\"Crime_Type\"] = df[\"Crime_Type\"].replace({'1.6.2 Overige vermogensdelicten': \"Other property crimes\"})\n",
    "df[\"Crime_Type\"] = df[\"Crime_Type\"].replace({'1.6.3 Mensenhandel': \"Human trafficking\"})\n",
    "\n",
    "df[\"Crime_Type\"] = df[\"Crime_Type\"].replace({'2.1.1 Drugs/drankoverlast': \"Drugs/drinking nuisance\"})\n",
    "df[\"Crime_Type\"] = df[\"Crime_Type\"].replace({'2.2.1 Vernieling cq. zaakbeschadiging': \"Destruction cq. property damage\"}) #?\n",
    "df[\"Crime_Type\"] = df[\"Crime_Type\"].replace({'2.4.1 Burengerucht (relatieproblemen)': \"Neighborhood rumor (relationship problems)\"})\n",
    "df[\"Crime_Type\"] = df[\"Crime_Type\"].replace({'2.4.2 Huisvredebreuk': \"Trespassing\"})\n",
    "df[\"Crime_Type\"] = df[\"Crime_Type\"].replace({'2.5.1 Diefstal/inbraak bedrijven enz.': \"Theft/burglary companies, etc.\"})\n",
    "df[\"Crime_Type\"] = df[\"Crime_Type\"].replace({'2.5.2 Winkeldiefstal': \"Shoplifting\"})\n",
    "\n",
    "df[\"Crime_Type\"] = df[\"Crime_Type\"].replace({'2.6.1 Inrichting Wet Milieubeheer': \"Organization of the Environmental Management Act\"})\n",
    "df[\"Crime_Type\"] = df[\"Crime_Type\"].replace({'2.6.2 Bodem': \"Soil\"})\n",
    "df[\"Crime_Type\"] = df[\"Crime_Type\"].replace({'2.6.3 Water': \"Water\"})\n",
    "df[\"Crime_Type\"] = df[\"Crime_Type\"].replace({'2.6.4 Afval': \"Waste\"})\n",
    "df[\"Crime_Type\"] = df[\"Crime_Type\"].replace({'2.6.5 Bouwstoffen': \"Building materials\"})\n",
    "df[\"Crime_Type\"] = df[\"Crime_Type\"].replace({'2.6.7 Mest': \"Manure\"})\n",
    "df[\"Crime_Type\"] = df[\"Crime_Type\"].replace({'2.6.8 Transport gevaarlijke stoffen': \"Transport of hazardous substances\"})\n",
    "df[\"Crime_Type\"] = df[\"Crime_Type\"].replace({'2.6.9 Vuurwerk': \"Fireworks\"})\n",
    "df[\"Crime_Type\"] = df[\"Crime_Type\"].replace({'2.6.10 Bestrijdingsmiddelen': \"Pesticides\"})\n",
    "df[\"Crime_Type\"] = df[\"Crime_Type\"].replace({'2.6.11 Natuur en landschap': \"Nature and landscape\"})\n",
    "df[\"Crime_Type\"] = df[\"Crime_Type\"].replace({'2.6.12 Ruimtelijke ordening': \"Spatial planning\"})\n",
    "df[\"Crime_Type\"] = df[\"Crime_Type\"].replace({'2.6.13 Dieren': \"Animals\"})\n",
    "df[\"Crime_Type\"] = df[\"Crime_Type\"].replace({'2.6.14 Voedselveiligheid': \"Food safety\"})\n",
    "\n",
    "df[\"Crime_Type\"] = df[\"Crime_Type\"].replace({'2.7.2 Bijzondere wetten': \"Special Laws\"})\n",
    "df[\"Crime_Type\"] = df[\"Crime_Type\"].replace({'2.7.3 Leefbaarheid (overig)': \"Livability(other)\"}) #?\n",
    "\n",
    "df[\"Crime_Type\"] = df[\"Crime_Type\"].replace({'3.1.1 Drugshandel': \"Drug Trafficking\"})\n",
    "df[\"Crime_Type\"] = df[\"Crime_Type\"].replace({'3.1.2 Mensensmokkel': \"Human Smuggling\"})\n",
    "df[\"Crime_Type\"] = df[\"Crime_Type\"].replace({'3.1.3 Wapenhandel': \"Arms trade\"})\n",
    "df[\"Crime_Type\"] = df[\"Crime_Type\"].replace({'3.2.1 Kinderporno': \"Child pornography\"})\n",
    "df[\"Crime_Type\"] = df[\"Crime_Type\"].replace({'3.2.2 Kinderprostitutie': \"Child prostitution\"})\n",
    "\n",
    "df[\"Crime_Type\"] = df[\"Crime_Type\"].replace({'3.3.2 Onder invloed (lucht)': \"Under the influence (air)\"})\n",
    "df[\"Crime_Type\"] = df[\"Crime_Type\"].replace({'3.3.5 Lucht (overig)': \"Air (other)\"})\n",
    "df[\"Crime_Type\"] = df[\"Crime_Type\"].replace({'3.4.2 Onder invloed (water)': \"Under the influence (water)\"})\n",
    "df[\"Crime_Type\"] = df[\"Crime_Type\"].replace({'3.5.2 Onder invloed (weg)': \"Under the influence (road)\"})\n",
    "df[\"Crime_Type\"] = df[\"Crime_Type\"].replace({'3.5.5 Weg (overig)': \"Road (other)\"})\n",
    "\n",
    "df[\"Crime_Type\"] = df[\"Crime_Type\"].replace({'3.6.4 Aantasting openbare orde': \"Damage to public order\"})\n",
    "\n",
    "df[\"Crime_Type\"] = df[\"Crime_Type\"].replace({'3.7.1 Discriminatie': \"Discrimination\"})\n",
    "df[\"Crime_Type\"] = df[\"Crime_Type\"].replace({'3.7.2 Vreemdelingenzorg': \"Immigration care\"})\n",
    "df[\"Crime_Type\"] = df[\"Crime_Type\"].replace({'3.7.3 Maatsch. integriteit (overig)': \"Social integrity (other)\"})\n",
    "df[\"Crime_Type\"] = df[\"Crime_Type\"].replace({'3.7.4 Cybercrime': \"Cybercrime\"})\n",
    "\n",
    "df[\"Crime_Type\"] = df[\"Crime_Type\"].replace({'3.9.1 Horizontale fraude': \"Horizontal fraud\"}) # Fraud aimed at civilianss,companies or fin. institutions\n",
    "df[\"Crime_Type\"] = df[\"Crime_Type\"].replace({'3.9.2 Verticale fraude': \"Vertical fraud\"}) # Aimed at goverment\n",
    "df[\"Crime_Type\"] = df[\"Crime_Type\"].replace({'3.9.3 Fraude (overig)': \"Fraud (other)\"})"
   ]
  },
  {
   "cell_type": "markdown",
   "id": "9a1a01ba",
   "metadata": {},
   "source": [
    "# Cleaning Data"
   ]
  },
  {
   "cell_type": "code",
   "execution_count": null,
   "id": "219e58b0",
   "metadata": {},
   "outputs": [],
   "source": [
    "#Removing generic information \n",
    "df = df[ ~df[\"Region\"].isin(['Buitenland', 'Gemeenten; niet in te delen','Noord-Nederland (RE)', 'Oost-Nederland (RE)',\n",
    "'Midden-Nederland (RE)','Nederland', 'Noord-Holland (RE)', 'Amsterdam (RE)','Den Haag (RE)', 'Rotterdam (RE)', 'Zeeland - West-Brabant (RE)',\n",
    "'Oost-Brabant (RE)', 'Limburg (RE)', 'Niet in te delen (RE)']) ]"
   ]
  },
  {
   "cell_type": "code",
   "execution_count": null,
   "id": "de23b498",
   "metadata": {},
   "outputs": [],
   "source": [
    "#For filtering I use only specific years therefore only full year data stays.\n",
    "df = df[ ~df[\"Year\"].isin(['2023 maart', '2023 april',\n",
    "       '2023 mei', '2023 juni', '2023 juli', '2023 augustus',\n",
    "       '2023 september', '2023 oktober', '2023 november', '2023 december',\n",
    "       '2024 januari', '2024 februari']) ]\n",
    "#Droping unrelated columns\n",
    "df = df.drop('Declarations (number)', axis=1)\n",
    "df = df.drop('Unnamed: 0', axis=1)\n"
   ]
  },
  {
   "cell_type": "code",
   "execution_count": null,
   "id": "668ad4c0",
   "metadata": {},
   "outputs": [],
   "source": [
    "df[df[\"Year\"].isin(['2023 maart', '2023 april', '2024 januari', '2024 februari'])]"
   ]
  },
  {
   "cell_type": "code",
   "execution_count": null,
   "id": "523da3f0",
   "metadata": {},
   "outputs": [],
   "source": [
    "# Some locations were not recognized geographically therefore names,had to be adjusted.\n",
    "df[\"Region\"] = df[\"Region\"].replace({'Beek (L.)': \"Beek\"})\n",
    "df[\"Region\"] = df[\"Region\"].replace({'Bergen (L.)': \"Bergen\"})\n",
    "df[\"Region\"] = df[\"Region\"].replace({'Groningen (gemeente)': \"Groningen\"})\n",
    "df[\"Region\"] = df[\"Region\"].replace({'Hengelo (O.)': \"Hengelo\"})\n",
    "df[\"Region\"] = df[\"Region\"].replace({'Laren (NH.)': \"Laren\"})\n",
    "df[\"Region\"] = df[\"Region\"].replace({'Middelburg (Z.)': \"Middelburg\"})\n",
    "df[\"Region\"] = df[\"Region\"].replace({'Rijswijk (ZH.)': \"Rijswijk\"})\n",
    "df[\"Region\"] = df[\"Region\"].replace({\"'s-Gravenhage (gemeente)\": \"'s-Gravenhage\"})\n",
    "df[\"Region\"] = df[\"Region\"].replace({'Stein (L.)': \"Stein\"})\n",
    "df[\"Region\"] = df[\"Region\"].replace({'Utrecht (gemeente)': \"Utrecht\"})\n",
    "df[\"Region\"] = df[\"Region\"].replace({'Voorne aan Zee': \"Westvoorne\"})"
   ]
  },
  {
   "cell_type": "code",
   "execution_count": null,
   "id": "50fbd41a",
   "metadata": {},
   "outputs": [],
   "source": [
    "# Two columns changed from object to numeric\n",
    "df.dtypes\n",
    "df['Year'] = pd.to_numeric(df['Year'], errors='coerce')\n",
    "df['Registered_Crimes(number)'] = pd.to_numeric(df['Registered_Crimes(number)'], errors='coerce')\n"
   ]
  },
  {
   "cell_type": "code",
   "execution_count": null,
   "id": "d7607437",
   "metadata": {},
   "outputs": [],
   "source": [
    "#Null values stay so user could see progress of crime rates over years\n",
    "df.columns.isnull().sum()"
   ]
  },
  {
   "cell_type": "code",
   "execution_count": null,
   "id": "4d897767",
   "metadata": {},
   "outputs": [],
   "source": [
    "#df.groupby(['Year', \"Region\", \"Crime_Type\"]).agg({\"Registered_Crimes(number)\":'sum'}).reset_index()"
   ]
  },
  {
   "cell_type": "code",
   "execution_count": null,
   "id": "ae273b82",
   "metadata": {},
   "outputs": [],
   "source": [
    "df"
   ]
  },
  {
   "cell_type": "code",
   "execution_count": null,
   "id": "8b07b044",
   "metadata": {},
   "outputs": [],
   "source": [
    "df.to_csv('all_crimes3.csv')"
   ]
  },
  {
   "cell_type": "code",
   "execution_count": null,
   "id": "36b74ce7",
   "metadata": {},
   "outputs": [],
   "source": []
  }
 ],
 "metadata": {
  "kernelspec": {
   "display_name": "final_project_env",
   "language": "python",
   "name": "final_project_env"
  },
  "language_info": {
   "codemirror_mode": {
    "name": "ipython",
    "version": 3
   },
   "file_extension": ".py",
   "mimetype": "text/x-python",
   "name": "python",
   "nbconvert_exporter": "python",
   "pygments_lexer": "ipython3",
   "version": "3.11.5"
  }
 },
 "nbformat": 4,
 "nbformat_minor": 5
}
